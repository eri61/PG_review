{
 "cells": [
  {
   "cell_type": "markdown",
   "metadata": {},
   "source": [
    "#### 6-A"
   ]
  },
  {
   "cell_type": "code",
   "execution_count": 8,
   "metadata": {},
   "outputs": [
    {
     "name": "stdout",
     "output_type": "stream",
     "text": [
      "838 758 113 515 51 627 10 419 212 86\n"
     ]
    }
   ],
   "source": [
    "input_data = input()\n",
    "print(\" \".join(input().split()[::-1]))"
   ]
  },
  {
   "cell_type": "markdown",
   "metadata": {},
   "source": [
    "#### 6-B\n",
    "**Finding Missing Cards**\n"
   ]
  },
  {
   "cell_type": "code",
   "execution_count": null,
   "metadata": {},
   "outputs": [],
   "source": [
    "trial = int(input())\n",
    "num = set(range(1, 14))\n",
    "dict_input = {\"S\":[], \"H\":[], \"C\":[], \"D\":[]}\n",
    "\n",
    "# input関数を使って入力をディクショナリで管理\n",
    "for i in range(trial):\n",
    "    r, n = input().split(\" \")\n",
    "    dict_input[r].append(int(n))\n",
    "\n",
    "# 出力\n",
    "for key, val in dict_input.items():\n",
    "    out = num - set(val)\n",
    "    for i in sorted(out):\n",
    "        print(f\"{key} {i}\")\n"
   ]
  },
  {
   "cell_type": "markdown",
   "metadata": {},
   "source": [
    "#### 6-C\n",
    "\n",
    "あまり気に入ってない"
   ]
  },
  {
   "cell_type": "code",
   "execution_count": 73,
   "metadata": {},
   "outputs": [
    {
     "name": "stdout",
     "output_type": "stream",
     "text": [
      "0 0 0 0 0 0 0 0 0 0 \n",
      "0 0 0 0 0 0 0 0 0 0 \n",
      "0 0 0 0 0 0 0 0 0 0 \n",
      "####################\n",
      "0 0 0 0 0 0 0 0 0 0 \n",
      "0 0 0 0 0 0 0 0 0 0 \n",
      "0 0 0 0 0 0 0 0 0 0 \n",
      "####################\n",
      "0 0 0 0 0 0 0 0 0 0 \n",
      "0 0 0 0 0 0 0 0 0 0 \n",
      "0 0 0 0 0 0 0 0 0 0 \n",
      "####################\n",
      "0 0 0 0 0 0 0 0 0 0 \n",
      "0 0 0 0 0 0 0 0 0 0 \n",
      "0 0 0 0 0 0 0 0 0 0 \n"
     ]
    }
   ],
   "source": [
    "room = [[[0 for i in range(10)] for j in range(3)] for k in range(4)]\n",
    "\n",
    "n = int(input())\n",
    "\n",
    "for i in range(n):\n",
    "    b,f,r,v = map(int, input().split())\n",
    "    room[b-1][f-1][r-1] += v\n",
    "\n",
    "for i in range(len(room)):\n",
    "    for j in range(len(room[i])):\n",
    "        print('', *room[i][j])\n",
    "    if i != len(room[i]):\n",
    "        print('#'*20)"
   ]
  },
  {
   "cell_type": "code",
   "execution_count": 3,
   "metadata": {},
   "outputs": [
    {
     "name": "stdout",
     "output_type": "stream",
     "text": [
      "aaa dd\n"
     ]
    }
   ],
   "source": [
    "print('aaa', \"dd\")"
   ]
  }
 ],
 "metadata": {
  "interpreter": {
   "hash": "31f2aee4e71d21fbe5cf8b01ff0e069b9275f58929596ceb00d14d90e3e16cd6"
  },
  "kernelspec": {
   "display_name": "Python 3.9.9 64-bit",
   "language": "python",
   "name": "python3"
  },
  "language_info": {
   "codemirror_mode": {
    "name": "ipython",
    "version": 3
   },
   "file_extension": ".py",
   "mimetype": "text/x-python",
   "name": "python",
   "nbconvert_exporter": "python",
   "pygments_lexer": "ipython3",
   "version": "3.9.9"
  },
  "orig_nbformat": 4
 },
 "nbformat": 4,
 "nbformat_minor": 2
}
